{
 "cells": [
  {
   "cell_type": "code",
   "execution_count": 1,
   "id": "fc971e38",
   "metadata": {},
   "outputs": [],
   "source": [
    "import redis"
   ]
  },
  {
   "cell_type": "code",
   "execution_count": 2,
   "id": "52421b1c",
   "metadata": {},
   "outputs": [],
   "source": [
    "r = redis.StrictRedis(host='localhost', port=6379, db=0,decode_responses=True)"
   ]
  },
  {
   "cell_type": "code",
   "execution_count": 3,
   "id": "61389a6a",
   "metadata": {},
   "outputs": [],
   "source": [
    "players = {\n",
    "    1: {\"Name\": \"Cristiano Ronaldo\", \"Position\": \"Forward\", \"Nationality\": \"Portugal\", \"Club\": \"Al-Nassr\", \"Goals\": \"933\"},\n",
    "    2: {\"Name\": \"Lionel Messi\", \"Position\": \"Forward\", \"Nationality\": \"Argentina\", \"Club\": \"Inter Miami\", \"Goals\": \"821\"},\n",
    "    3: {\"Name\": \"Kylian Mbappé\", \"Position\": \"Forward\", \"Nationality\": \"France\", \"Club\": \"PSG\", \"Goals\": \"280\"},\n",
    "    4: {\"Name\": \"Kevin De Bruyne\", \"Position\": \"Midfielder\", \"Nationality\": \"Belgium\", \"Club\": \"Manchester City\", \"Goals\": \"100\"},\n",
    "    5: {\"Name\": \"Virgil van Dijk\", \"Position\": \"Defender\", \"Nationality\": \"Netherlands\", \"Club\": \"Liverpool\", \"Goals\": \"45\"},\n",
    "    6: {\"Name\": \"Erling Haaland\", \"Position\": \"Forward\", \"Nationality\": \"Norway\", \"Club\": \"Manchester City\", \"Goals\": \"200\"},\n",
    "    7: {\"Name\": \"Luka Modrić\", \"Position\": \"Midfielder\", \"Nationality\": \"Croatia\", \"Club\": \"Real Madrid\", \"Goals\": \"70\"},\n",
    "    8: {\"Name\": \"Neymar Jr.\", \"Position\": \"Forward\", \"Nationality\": \"Brazil\", \"Club\": \"Al-Hilal\", \"Goals\": \"400\"},\n",
    "    9: {\"Name\": \"Manuel Neuer\", \"Position\": \"Goalkeeper\", \"Nationality\": \"Germany\", \"Club\": \"Bayern Munich\", \"Goals\": \"0\"},\n",
    "    10: {\"Name\": \"Sergio Ramos\", \"Position\": \"Defender\", \"Nationality\": \"Spain\", \"Club\": \"Sevilla\", \"Goals\": \"110\"},\n",
    "}\n"
   ]
  },
  {
   "cell_type": "code",
   "execution_count": 4,
   "id": "8f52485d",
   "metadata": {},
   "outputs": [
    {
     "name": "stderr",
     "output_type": "stream",
     "text": [
      "C:\\Users\\robin\\AppData\\Local\\Temp\\ipykernel_19236\\2341602957.py:3: DeprecationWarning: Redis.hmset() is deprecated. Use Redis.hset() instead.\n",
      "  r.hmset(redis_key, players)\n"
     ]
    }
   ],
   "source": [
    "for key, players in players.items():\n",
    "    redis_key = f\"players:{key}\"\n",
    "    r.hmset(redis_key, players)"
   ]
  },
  {
   "cell_type": "code",
   "execution_count": 5,
   "id": "dcf28b1d",
   "metadata": {},
   "outputs": [
    {
     "name": "stdout",
     "output_type": "stream",
     "text": [
      "players:7 {'Name': 'Luka Modrić', 'Position': 'Midfielder', 'Nationality': 'Croatia', 'Club': 'Real Madrid', 'Goals': '70'}\n",
      "players:10 {'name': 'Sergio Ramos', 'position': 'Defender', 'nationality': 'Spain', 'club': 'Sevilla', 'goals': '110', 'Name': 'Sergio Ramos', 'Position': 'Defender', 'Nationality': 'Spain', 'Club': 'Sevilla', 'Goals': '110'}\n",
      "players:9 {'name': 'Manuel Neuer', 'position': 'Goalkeeper', 'nationality': 'Germany', 'club': 'Bayern Munich', 'goals': '0', 'Name': 'Manuel Neuer', 'Position': 'Goalkeeper', 'Nationality': 'Germany', 'Club': 'Bayern Munich', 'Goals': '0'}\n",
      "players:5 {'name': 'Virgil van Dijk', 'position': 'Defender', 'nationality': 'Netherlands', 'club': 'Liverpool', 'goals': '45', 'Name': 'Virgil van Dijk', 'Position': 'Defender', 'Nationality': 'Netherlands', 'Club': 'Liverpool', 'Goals': '45'}\n",
      "players:4 {'name': 'Kevin De Bruyne', 'position': 'Midfielder', 'nationality': 'Belgium', 'club': 'Manchester City', 'goals': '100', 'Name': 'Kevin De Bruyne', 'Position': 'Midfielder', 'Nationality': 'Belgium', 'Club': 'Manchester City', 'Goals': '100'}\n",
      "players:2 {'name': 'Lionel Messi', 'position': 'Forward', 'nationality': 'Argentina', 'club': 'Inter Miami', 'goals': '821', 'Name': 'Lionel Messi', 'Position': 'Forward', 'Nationality': 'Argentina', 'Club': 'Inter Miami', 'Goals': '821'}\n",
      "players:3 {'name': 'Kylian Mbappé', 'position': 'Forward', 'nationality': 'France', 'club': 'PSG', 'goals': '280', 'Name': 'Kylian Mbappé', 'Position': 'Forward', 'Nationality': 'France', 'Club': 'PSG', 'Goals': '280'}\n",
      "players:6 {'name': 'Erling Haaland', 'position': 'Forward', 'nationality': 'Norway', 'club': 'Manchester City', 'goals': '100', 'Name': 'Erling Haaland', 'Position': 'Forward', 'Nationality': 'Norway', 'Club': 'Manchester City', 'Goals': '200'}\n",
      "players:1 {'name': 'Cristiano Ronaldo', 'position': 'Forward', 'nationality': 'Portugal', 'club': 'Al-Nassr', 'goals': '933', 'Name': 'Cristiano Ronaldo', 'Position': 'Forward', 'Nationality': 'Portugal', 'Club': 'Al-Nassr', 'Goals': '933'}\n",
      "players:8 {'name': 'Neymar Jr.', 'position': 'Forward', 'nationality': 'Brazil', 'club': 'Al-Hilal', 'goals': '400', 'Name': 'Neymar Jr.', 'Position': 'Forward', 'Nationality': 'Brazil', 'Club': 'Al-Hilal', 'Goals': '400'}\n"
     ]
    }
   ],
   "source": [
    "for key in r.scan_iter(\"players:*\"):\n",
    "    data=r.hgetall(key)\n",
    "    print(key,data)"
   ]
  },
  {
   "cell_type": "code",
   "execution_count": 5,
   "id": "172e61d6",
   "metadata": {},
   "outputs": [
    {
     "name": "stdout",
     "output_type": "stream",
     "text": [
      "{'name': 'Cristiano Ronaldo', 'position': 'Forward', 'nationality': 'Portugal', 'club': 'Al-Nassr', 'goals': '933', 'Name': 'Cristiano Ronaldo', 'Position': 'Forward', 'Nationality': 'Portugal', 'Club': 'Al-Nassr', 'Goals': '933'}\n"
     ]
    }
   ],
   "source": [
    "print(r.hgetall(\"players:1\"))"
   ]
  },
  {
   "cell_type": "code",
   "execution_count": 6,
   "id": "8bb95a26",
   "metadata": {},
   "outputs": [
    {
     "name": "stdout",
     "output_type": "stream",
     "text": [
      "0\n"
     ]
    }
   ],
   "source": [
    "print(r.hset(\"players:6\", \"goals\", \"100\"))"
   ]
  },
  {
   "cell_type": "code",
   "execution_count": 7,
   "id": "178b75b0",
   "metadata": {},
   "outputs": [
    {
     "name": "stdout",
     "output_type": "stream",
     "text": [
      "1\n"
     ]
    }
   ],
   "source": [
    "print(r.delete(\"players:7\"))"
   ]
  },
  {
   "cell_type": "code",
   "execution_count": 8,
   "id": "049de04d",
   "metadata": {},
   "outputs": [
    {
     "name": "stdout",
     "output_type": "stream",
     "text": [
      "players:8 {'name': 'Neymar Jr.', 'position': 'Forward', 'nationality': 'Brazil', 'club': 'Al-Hilal', 'goals': '400', 'Name': 'Neymar Jr.', 'Position': 'Forward', 'Nationality': 'Brazil', 'Club': 'Al-Hilal', 'Goals': '400'}\n",
      "players:1 {'name': 'Cristiano Ronaldo', 'position': 'Forward', 'nationality': 'Portugal', 'club': 'Al-Nassr', 'goals': '933', 'Name': 'Cristiano Ronaldo', 'Position': 'Forward', 'Nationality': 'Portugal', 'Club': 'Al-Nassr', 'Goals': '933'}\n",
      "players:4 {'name': 'Kevin De Bruyne', 'position': 'Midfielder', 'nationality': 'Belgium', 'club': 'Manchester City', 'goals': '100', 'Name': 'Kevin De Bruyne', 'Position': 'Midfielder', 'Nationality': 'Belgium', 'Club': 'Manchester City', 'Goals': '100'}\n",
      "players:10 {'name': 'Sergio Ramos', 'position': 'Defender', 'nationality': 'Spain', 'club': 'Sevilla', 'goals': '110', 'Name': 'Sergio Ramos', 'Position': 'Defender', 'Nationality': 'Spain', 'Club': 'Sevilla', 'Goals': '110'}\n",
      "players:3 {'name': 'Kylian Mbappé', 'position': 'Forward', 'nationality': 'France', 'club': 'PSG', 'goals': '280', 'Name': 'Kylian Mbappé', 'Position': 'Forward', 'Nationality': 'France', 'Club': 'PSG', 'Goals': '280'}\n",
      "players:6 {'name': 'Erling Haaland', 'position': 'Forward', 'nationality': 'Norway', 'club': 'Manchester City', 'goals': '100', 'Name': 'Erling Haaland', 'Position': 'Forward', 'Nationality': 'Norway', 'Club': 'Manchester City', 'Goals': '200'}\n",
      "players:5 {'name': 'Virgil van Dijk', 'position': 'Defender', 'nationality': 'Netherlands', 'club': 'Liverpool', 'goals': '45', 'Name': 'Virgil van Dijk', 'Position': 'Defender', 'Nationality': 'Netherlands', 'Club': 'Liverpool', 'Goals': '45'}\n",
      "players:9 {'name': 'Manuel Neuer', 'position': 'Goalkeeper', 'nationality': 'Germany', 'club': 'Bayern Munich', 'goals': '0', 'Name': 'Manuel Neuer', 'Position': 'Goalkeeper', 'Nationality': 'Germany', 'Club': 'Bayern Munich', 'Goals': '0'}\n",
      "players:2 {'name': 'Lionel Messi', 'position': 'Forward', 'nationality': 'Argentina', 'club': 'Inter Miami', 'goals': '821', 'Name': 'Lionel Messi', 'Position': 'Forward', 'Nationality': 'Argentina', 'Club': 'Inter Miami', 'Goals': '821'}\n"
     ]
    }
   ],
   "source": [
    "for key in r.scan_iter(\"players:*\"):\n",
    "    data=r.hgetall(key)\n",
    "    print(key,data)"
   ]
  }
 ],
 "metadata": {
  "kernelspec": {
   "display_name": "base",
   "language": "python",
   "name": "python3"
  },
  "language_info": {
   "codemirror_mode": {
    "name": "ipython",
    "version": 3
   },
   "file_extension": ".py",
   "mimetype": "text/x-python",
   "name": "python",
   "nbconvert_exporter": "python",
   "pygments_lexer": "ipython3",
   "version": "3.12.4"
  }
 },
 "nbformat": 4,
 "nbformat_minor": 5
}
